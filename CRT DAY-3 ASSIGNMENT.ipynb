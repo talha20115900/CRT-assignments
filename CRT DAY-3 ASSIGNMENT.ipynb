{
 "cells": [
  {
   "cell_type": "code",
   "execution_count": 1,
   "id": "07959790",
   "metadata": {},
   "outputs": [
    {
     "name": "stdout",
     "output_type": "stream",
     "text": [
      "Enter marks for Subject 1: 96\n",
      "Enter marks for Subject 2: 85\n",
      "Enter marks for Subject 3: 78\n",
      "Average Marks: 86.33\n",
      "Grade: B\n"
     ]
    }
   ],
   "source": [
    "# Take marks input for three subjects\n",
    "subject1 = float(input(\"Enter marks for Subject 1: \"))\n",
    "subject2 = float(input(\"Enter marks for Subject 2: \"))\n",
    "subject3 = float(input(\"Enter marks for Subject 3: \"))\n",
    "average = (subject1 + subject2 + subject3) / 3\n",
    "if average >= 90:\n",
    "    grade = \"A\"\n",
    "elif 80 <= average < 90:\n",
    "    grade = \"B\"\n",
    "elif 70 <= average < 80:\n",
    "    grade = \"C\"\n",
    "else:\n",
    "    grade = \"Fail\"\n",
    "print(f\"Average Marks: {average:.2f}\")\n",
    "print(f\"Grade: {grade}\")\n"
   ]
  },
  {
   "cell_type": "code",
   "execution_count": null,
   "id": "5954ace3",
   "metadata": {},
   "outputs": [],
   "source": []
  }
 ],
 "metadata": {
  "kernelspec": {
   "display_name": "Python 3 (ipykernel)",
   "language": "python",
   "name": "python3"
  },
  "language_info": {
   "codemirror_mode": {
    "name": "ipython",
    "version": 3
   },
   "file_extension": ".py",
   "mimetype": "text/x-python",
   "name": "python",
   "nbconvert_exporter": "python",
   "pygments_lexer": "ipython3",
   "version": "3.10.5"
  }
 },
 "nbformat": 4,
 "nbformat_minor": 5
}
