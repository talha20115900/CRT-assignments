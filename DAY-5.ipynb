{
 "cells": [
  {
   "cell_type": "code",
   "execution_count": 1,
   "id": "908f2fe5",
   "metadata": {},
   "outputs": [
    {
     "name": "stdout",
     "output_type": "stream",
     "text": [
      "Enter the text: this is mallareddy university.This is the best college\n",
      "'this': 1\n",
      "'is': 2\n",
      "'mallareddy': 1\n",
      "'university.This': 1\n",
      "'the': 1\n",
      "'best': 1\n",
      "'college': 1\n"
     ]
    }
   ],
   "source": [
    "from collections import Counter\n",
    "def calculate_word_frequency(text):\n",
    "    words = text.split()\n",
    "    word_count = Counter(words)\n",
    "    for word, count in word_count.items():\n",
    "        print(f\"'{word}': {count}\")\n",
    "text = input(\"Enter the text: \")\n",
    "calculate_word_frequency(text)\n"
   ]
  },
  {
   "cell_type": "code",
   "execution_count": null,
   "id": "cd4bea46",
   "metadata": {},
   "outputs": [],
   "source": []
  }
 ],
 "metadata": {
  "kernelspec": {
   "display_name": "Python 3 (ipykernel)",
   "language": "python",
   "name": "python3"
  },
  "language_info": {
   "codemirror_mode": {
    "name": "ipython",
    "version": 3
   },
   "file_extension": ".py",
   "mimetype": "text/x-python",
   "name": "python",
   "nbconvert_exporter": "python",
   "pygments_lexer": "ipython3",
   "version": "3.10.5"
  }
 },
 "nbformat": 4,
 "nbformat_minor": 5
}
