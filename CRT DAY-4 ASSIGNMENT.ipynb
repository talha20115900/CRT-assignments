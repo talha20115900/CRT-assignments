{
 "cells": [
  {
   "cell_type": "code",
   "execution_count": 1,
   "id": "ea032161",
   "metadata": {},
   "outputs": [
    {
     "name": "stdout",
     "output_type": "stream",
     "text": [
      "Enter a positive integer (n): 5\n",
      "The sum of all even numbers between 1 and 5 is: 6\n"
     ]
    }
   ],
   "source": [
    "# Take input for the upper limit\n",
    "n = int(input(\"Enter a positive integer (n): \"))\n",
    "sum_of_evens = 0\n",
    "for number in range(1, n + 1):\n",
    "    if number % 2 == 0: \n",
    "        sum_of_evens += number\n",
    "print(f\"The sum of all even numbers between 1 and {n} is: {sum_of_evens}\")\n"
   ]
  },
  {
   "cell_type": "code",
   "execution_count": 2,
   "id": "1d3f5495",
   "metadata": {},
   "outputs": [
    {
     "name": "stdout",
     "output_type": "stream",
     "text": [
      "Original String: hello world\n",
      "Uppercase String: HELLO WORLD\n",
      "Count of 'o' in string: 2\n",
      "\n",
      "Original List: [5, 3, 8, 6, 2]\n",
      "List after appending 10 and sorting: [2, 3, 5, 6, 8, 10]\n",
      "\n",
      "Enter a number to find its square: 25\n",
      "The square of 25 is: 625\n"
     ]
    }
   ],
   "source": [
    "# Built-in methods: str and list activities\n",
    "# 1. Using `str` methods\n",
    "my_string = \"hello world\"\n",
    "uppercase_string = my_string.upper()  \n",
    "word_count = my_string.count('o')    \n",
    "print(\"Original String:\", my_string)\n",
    "print(\"Uppercase String:\", uppercase_string)\n",
    "print(\"Count of 'o' in string:\", word_count)\n",
    "\n",
    "# 2. Using `list` methods\n",
    "my_list = [5, 3, 8, 6, 2]\n",
    "my_list.append(10)          \n",
    "my_list.sort()             \n",
    "print(\"\\nOriginal List: [5, 3, 8, 6, 2]\")\n",
    "print(\"List after appending 10 and sorting:\", my_list)\n",
    "# User-defined function: Find the square of a number\n",
    "def find_square(number):\n",
    "    \"\"\"\n",
    "    This function takes a number as input\n",
    "    and returns its square.\n",
    "    \"\"\"\n",
    "    return number ** 2\n",
    "num = int(input(\"\\nEnter a number to find its square: \"))\n",
    "square = find_square(num)\n",
    "print(f\"The square of {num} is: {square}\")\n"
   ]
  },
  {
   "cell_type": "code",
   "execution_count": null,
   "id": "3040a006",
   "metadata": {},
   "outputs": [],
   "source": []
  }
 ],
 "metadata": {
  "kernelspec": {
   "display_name": "Python 3 (ipykernel)",
   "language": "python",
   "name": "python3"
  },
  "language_info": {
   "codemirror_mode": {
    "name": "ipython",
    "version": 3
   },
   "file_extension": ".py",
   "mimetype": "text/x-python",
   "name": "python",
   "nbconvert_exporter": "python",
   "pygments_lexer": "ipython3",
   "version": "3.10.5"
  }
 },
 "nbformat": 4,
 "nbformat_minor": 5
}
