{
 "cells": [
  {
   "cell_type": "code",
   "execution_count": 1,
   "id": "60d799be",
   "metadata": {},
   "outputs": [
    {
     "name": "stdout",
     "output_type": "stream",
     "text": [
      "Webpage Title: Example Domain\n"
     ]
    }
   ],
   "source": [
    "import requests\n",
    "from bs4 import BeautifulSoup\n",
    "\n",
    "def fetch_webpage_title(url):\n",
    "    \"\"\"\n",
    "    Fetches and prints the title of a webpage.\n",
    "    \n",
    "    :param url: The URL of the webpage\n",
    "    :return: The title of the webpage as a string\n",
    "    \"\"\"\n",
    "    try:\n",
    "        # Send an HTTP GET request to the URL\n",
    "        response = requests.get(url)\n",
    "        response.raise_for_status()  # Raise an exception for HTTP errors\n",
    "        \n",
    "        # Parse the webpage content\n",
    "        soup = BeautifulSoup(response.text, 'html.parser')\n",
    "        \n",
    "        # Extract the title tag\n",
    "        title = soup.title.string.strip() if soup.title else 'No title found'\n",
    "        return title\n",
    "    \n",
    "    except requests.exceptions.RequestException as e:\n",
    "        return f\"An error occurred: {e}\"\n",
    "\n",
    "# Test the function\n",
    "test_url = 'https://example.com'\n",
    "webpage_title = fetch_webpage_title(test_url)\n",
    "print(\"Webpage Title:\", webpage_title)\n"
   ]
  },
  {
   "cell_type": "code",
   "execution_count": null,
   "id": "bc7c1699",
   "metadata": {},
   "outputs": [],
   "source": []
  }
 ],
 "metadata": {
  "kernelspec": {
   "display_name": "Python 3 (ipykernel)",
   "language": "python",
   "name": "python3"
  },
  "language_info": {
   "codemirror_mode": {
    "name": "ipython",
    "version": 3
   },
   "file_extension": ".py",
   "mimetype": "text/x-python",
   "name": "python",
   "nbconvert_exporter": "python",
   "pygments_lexer": "ipython3",
   "version": "3.10.5"
  }
 },
 "nbformat": 4,
 "nbformat_minor": 5
}
