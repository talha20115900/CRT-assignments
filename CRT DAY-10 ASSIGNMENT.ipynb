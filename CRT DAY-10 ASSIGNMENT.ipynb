{
 "cells": [
  {
   "cell_type": "code",
   "execution_count": 1,
   "id": "f52159df",
   "metadata": {},
   "outputs": [
    {
     "name": "stdout",
     "output_type": "stream",
     "text": [
      "Original: Hello, World! Welcome to NLP 101.\n",
      "Cleaned: hello world welcome to nlp 101\n",
      "Original: Contact us at support@example.com and sales@example.org.\n",
      "Extracted Emails: ['support@example.com', 'sales@example.org']\n"
     ]
    }
   ],
   "source": [
    "import re\n",
    "\n",
    "def clean_text(text):\n",
    "    \"\"\"\n",
    "    Cleans the given text by removing special characters and converting it to lowercase.\n",
    "\n",
    "    Args:\n",
    "        text (str): The text to be cleaned.\n",
    "\n",
    "    Returns:\n",
    "        str: The cleaned text.\n",
    "    \"\"\"\n",
    "    # Remove special characters using a regular expression\n",
    "    text = re.sub(r'[^a-zA-Z0-9\\s]', '', text)\n",
    "    # Convert text to lowercase\n",
    "    text = text.lower()\n",
    "    return text\n",
    "\n",
    "def extract_emails(text):\n",
    "    \"\"\"\n",
    "    Extracts all email addresses from the given text using regular expressions.\n",
    "\n",
    "    Args:\n",
    "        text (str): The text to extract email addresses from.\n",
    "\n",
    "    Returns:\n",
    "        list: A list of extracted email addresses.\n",
    "    \"\"\"\n",
    "    # Regular expression to match email addresses\n",
    "    email_pattern = r'[a-zA-Z0-9._%+-]+@[a-zA-Z0-9.-]+\\.[a-zA-Z]{2,}'\n",
    "    return re.findall(email_pattern, text)\n",
    "\n",
    "# Test the functions\n",
    "test_input_clean = 'Hello, World! Welcome to NLP 101.'\n",
    "cleaned_text = clean_text(test_input_clean)\n",
    "print(f\"Original: {test_input_clean}\")\n",
    "print(f\"Cleaned: {cleaned_text}\")\n",
    "\n",
    "# Test email extraction\n",
    "test_input_emails = 'Contact us at support@example.com and sales@example.org.'\n",
    "extracted_emails = extract_emails(test_input_emails)\n",
    "print(f\"Original: {test_input_emails}\")\n",
    "print(f\"Extracted Emails: {extracted_emails}\")\n"
   ]
  },
  {
   "cell_type": "code",
   "execution_count": null,
   "id": "f589bf04",
   "metadata": {},
   "outputs": [],
   "source": []
  }
 ],
 "metadata": {
  "kernelspec": {
   "display_name": "Python 3 (ipykernel)",
   "language": "python",
   "name": "python3"
  },
  "language_info": {
   "codemirror_mode": {
    "name": "ipython",
    "version": 3
   },
   "file_extension": ".py",
   "mimetype": "text/x-python",
   "name": "python",
   "nbconvert_exporter": "python",
   "pygments_lexer": "ipython3",
   "version": "3.10.5"
  }
 },
 "nbformat": 4,
 "nbformat_minor": 5
}
