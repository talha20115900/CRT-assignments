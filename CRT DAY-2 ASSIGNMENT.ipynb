{
 "cells": [
  {
   "cell_type": "code",
   "execution_count": 1,
   "id": "843ba34d",
   "metadata": {},
   "outputs": [
    {
     "name": "stdout",
     "output_type": "stream",
     "text": [
      "List elements:\n",
      "Element at index 0: 10\n",
      "Element at index 3: 40\n",
      "Last element: 50\n",
      "\n",
      "Tuple elements:\n",
      "Element at index 1: banana\n",
      "Element at index 4: elderberry\n",
      "First three elements: ('apple', 'banana', 'cherry')\n",
      "\n",
      "Dictionary elements:\n",
      "Value for key 'name': Alice\n",
      "Value for key 'job': Engineer\n",
      "Keys in dictionary: ['name', 'age', 'city', 'job', 'hobby']\n",
      "Values in dictionary: ['Alice', 25, 'New York', 'Engineer', 'Reading']\n"
     ]
    }
   ],
   "source": [
    "# Create a list, tuple, and dictionary\n",
    "my_list = [10, 20, 30, 40, 50]           \n",
    "my_tuple = (\"apple\", \"banana\", \"cherry\", \"date\", \"elderberry\")  \n",
    "my_dict = {\"name\": \"Alice\", \"age\": 25, \"city\": \"New York\", \"job\": \"Engineer\", \"hobby\": \"Reading\"}\n",
    "#LIST\n",
    "print(\"List elements:\")\n",
    "print(\"Element at index 0:\", my_list[0])  \n",
    "print(\"Element at index 3:\", my_list[3])  \n",
    "print(\"Last element:\", my_list[-1])\n",
    "#TUPLE\n",
    "print(\"\\nTuple elements:\")\n",
    "print(\"Element at index 1:\", my_tuple[1]) \n",
    "print(\"Element at index 4:\", my_tuple[4])  \n",
    "print(\"First three elements:\", my_tuple[:3])  \n",
    "#DICTIONARY\n",
    "print(\"\\nDictionary elements:\")\n",
    "print(\"Value for key 'name':\", my_dict[\"name\"])   \n",
    "print(\"Value for key 'job':\", my_dict[\"job\"])     \n",
    "print(\"Keys in dictionary:\", list(my_dict.keys()))  \n",
    "print(\"Values in dictionary:\", list(my_dict.values())) \n"
   ]
  },
  {
   "cell_type": "code",
   "execution_count": null,
   "id": "8d85b0f8",
   "metadata": {},
   "outputs": [],
   "source": []
  }
 ],
 "metadata": {
  "kernelspec": {
   "display_name": "Python 3 (ipykernel)",
   "language": "python",
   "name": "python3"
  },
  "language_info": {
   "codemirror_mode": {
    "name": "ipython",
    "version": 3
   },
   "file_extension": ".py",
   "mimetype": "text/x-python",
   "name": "python",
   "nbconvert_exporter": "python",
   "pygments_lexer": "ipython3",
   "version": "3.10.5"
  }
 },
 "nbformat": 4,
 "nbformat_minor": 5
}
